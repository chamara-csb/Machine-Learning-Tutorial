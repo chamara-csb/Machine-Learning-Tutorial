{
 "cells": [
  {
   "cell_type": "markdown",
   "id": "1a24bbea",
   "metadata": {},
   "source": [
    "### Feature Selection for Classification Problem using Mutual Information"
   ]
  },
  {
   "cell_type": "code",
   "execution_count": 1,
   "id": "ec2deee4",
   "metadata": {},
   "outputs": [],
   "source": [
    "import pandas as pd\n",
    "from sklearn.datasets import make_classification\n",
    "import matplotlib.pyplot as plt\n",
    "\n",
    "# Generate Dataset\n",
    "X, y = make_classification(n_samples=50, n_features=5, n_informative=2)\n",
    "X = pd.DataFrame(X)"
   ]
  },
  {
   "cell_type": "code",
   "execution_count": 2,
   "id": "a0cde40a",
   "metadata": {},
   "outputs": [
    {
     "data": {
      "text/html": [
       "<div>\n",
       "<style scoped>\n",
       "    .dataframe tbody tr th:only-of-type {\n",
       "        vertical-align: middle;\n",
       "    }\n",
       "\n",
       "    .dataframe tbody tr th {\n",
       "        vertical-align: top;\n",
       "    }\n",
       "\n",
       "    .dataframe thead th {\n",
       "        text-align: right;\n",
       "    }\n",
       "</style>\n",
       "<table border=\"1\" class=\"dataframe\">\n",
       "  <thead>\n",
       "    <tr style=\"text-align: right;\">\n",
       "      <th></th>\n",
       "      <th>0</th>\n",
       "      <th>1</th>\n",
       "      <th>2</th>\n",
       "      <th>3</th>\n",
       "      <th>4</th>\n",
       "    </tr>\n",
       "  </thead>\n",
       "  <tbody>\n",
       "    <tr>\n",
       "      <th>0</th>\n",
       "      <td>-0.563042</td>\n",
       "      <td>-0.493615</td>\n",
       "      <td>0.482412</td>\n",
       "      <td>0.681318</td>\n",
       "      <td>-0.066740</td>\n",
       "    </tr>\n",
       "    <tr>\n",
       "      <th>1</th>\n",
       "      <td>-2.694940</td>\n",
       "      <td>-0.825097</td>\n",
       "      <td>-1.004567</td>\n",
       "      <td>-0.249176</td>\n",
       "      <td>-1.204487</td>\n",
       "    </tr>\n",
       "    <tr>\n",
       "      <th>2</th>\n",
       "      <td>-1.042250</td>\n",
       "      <td>-0.237252</td>\n",
       "      <td>0.139136</td>\n",
       "      <td>0.256394</td>\n",
       "      <td>-0.088042</td>\n",
       "    </tr>\n",
       "    <tr>\n",
       "      <th>3</th>\n",
       "      <td>-0.400803</td>\n",
       "      <td>0.149334</td>\n",
       "      <td>0.132215</td>\n",
       "      <td>0.007081</td>\n",
       "      <td>0.188065</td>\n",
       "    </tr>\n",
       "    <tr>\n",
       "      <th>4</th>\n",
       "      <td>1.191284</td>\n",
       "      <td>0.868737</td>\n",
       "      <td>0.926930</td>\n",
       "      <td>0.162125</td>\n",
       "      <td>1.189271</td>\n",
       "    </tr>\n",
       "  </tbody>\n",
       "</table>\n",
       "</div>"
      ],
      "text/plain": [
       "          0         1         2         3         4\n",
       "0 -0.563042 -0.493615  0.482412  0.681318 -0.066740\n",
       "1 -2.694940 -0.825097 -1.004567 -0.249176 -1.204487\n",
       "2 -1.042250 -0.237252  0.139136  0.256394 -0.088042\n",
       "3 -0.400803  0.149334  0.132215  0.007081  0.188065\n",
       "4  1.191284  0.868737  0.926930  0.162125  1.189271"
      ]
     },
     "execution_count": 2,
     "metadata": {},
     "output_type": "execute_result"
    }
   ],
   "source": [
    "X.head()"
   ]
  },
  {
   "cell_type": "code",
   "execution_count": 3,
   "id": "4827911c",
   "metadata": {},
   "outputs": [
    {
     "data": {
      "text/plain": [
       "array([0, 0, 0, 1, 1])"
      ]
     },
     "execution_count": 3,
     "metadata": {},
     "output_type": "execute_result"
    }
   ],
   "source": [
    "y[:5]"
   ]
  },
  {
   "cell_type": "code",
   "execution_count": 4,
   "id": "e06ea965",
   "metadata": {},
   "outputs": [],
   "source": [
    "# Select top K features\n",
    "from sklearn.feature_selection import SelectKBest\n",
    "\n",
    "# To get mutual score in classification dataset\n",
    "from sklearn.feature_selection import mutual_info_classif"
   ]
  },
  {
   "cell_type": "code",
   "execution_count": 5,
   "id": "7dc24c30",
   "metadata": {},
   "outputs": [],
   "source": [
    "fs = SelectKBest(score_func=mutual_info_classif, k=3)"
   ]
  },
  {
   "cell_type": "code",
   "execution_count": 6,
   "id": "64bfede9",
   "metadata": {},
   "outputs": [
    {
     "data": {
      "image/png": "[encoded data removed]",
      "text/plain": [
       "<Figure size 432x288 with 1 Axes>"
      ]
     },
     "metadata": {
      "needs_background": "light"
     },
     "output_type": "display_data"
    }
   ],
   "source": [
    "fs.fit(X,y)\n",
    "mi_score = pd.Series(fs.scores_, index=X.columns)\n",
    "mi_score.sort_values(ascending=False).plot.bar(figsize=(6, 4))\n",
    "plt.show()"
   ]
  },
  {
   "cell_type": "code",
   "execution_count": 7,
   "id": "509d3aeb",
   "metadata": {},
   "outputs": [],
   "source": [
    "selected_X = fs.fit_transform(X,y)\n",
    "selected_X = pd.DataFrame(selected_X)"
   ]
  },
  {
   "cell_type": "code",
   "execution_count": 8,
   "id": "e7f40fbf",
   "metadata": {
    "scrolled": true
   },
   "outputs": [
    {
     "data": {
      "text/html": [
       "<div>\n",
       "<style scoped>\n",
       "    .dataframe tbody tr th:only-of-type {\n",
       "        vertical-align: middle;\n",
       "    }\n",
       "\n",
       "    .dataframe tbody tr th {\n",
       "        vertical-align: top;\n",
       "    }\n",
       "\n",
       "    .dataframe thead th {\n",
       "        text-align: right;\n",
       "    }\n",
       "</style>\n",
       "<table border=\"1\" class=\"dataframe\">\n",
       "  <thead>\n",
       "    <tr style=\"text-align: right;\">\n",
       "      <th></th>\n",
       "      <th>0</th>\n",
       "      <th>1</th>\n",
       "      <th>2</th>\n",
       "      <th>3</th>\n",
       "      <th>4</th>\n",
       "    </tr>\n",
       "  </thead>\n",
       "  <tbody>\n",
       "    <tr>\n",
       "      <th>0</th>\n",
       "      <td>-0.563042</td>\n",
       "      <td>-0.493615</td>\n",
       "      <td>0.482412</td>\n",
       "      <td>0.681318</td>\n",
       "      <td>-0.066740</td>\n",
       "    </tr>\n",
       "    <tr>\n",
       "      <th>1</th>\n",
       "      <td>-2.694940</td>\n",
       "      <td>-0.825097</td>\n",
       "      <td>-1.004567</td>\n",
       "      <td>-0.249176</td>\n",
       "      <td>-1.204487</td>\n",
       "    </tr>\n",
       "    <tr>\n",
       "      <th>2</th>\n",
       "      <td>-1.042250</td>\n",
       "      <td>-0.237252</td>\n",
       "      <td>0.139136</td>\n",
       "      <td>0.256394</td>\n",
       "      <td>-0.088042</td>\n",
       "    </tr>\n",
       "    <tr>\n",
       "      <th>3</th>\n",
       "      <td>-0.400803</td>\n",
       "      <td>0.149334</td>\n",
       "      <td>0.132215</td>\n",
       "      <td>0.007081</td>\n",
       "      <td>0.188065</td>\n",
       "    </tr>\n",
       "    <tr>\n",
       "      <th>4</th>\n",
       "      <td>1.191284</td>\n",
       "      <td>0.868737</td>\n",
       "      <td>0.926930</td>\n",
       "      <td>0.162125</td>\n",
       "      <td>1.189271</td>\n",
       "    </tr>\n",
       "  </tbody>\n",
       "</table>\n",
       "</div>"
      ],
      "text/plain": [
       "          0         1         2         3         4\n",
       "0 -0.563042 -0.493615  0.482412  0.681318 -0.066740\n",
       "1 -2.694940 -0.825097 -1.004567 -0.249176 -1.204487\n",
       "2 -1.042250 -0.237252  0.139136  0.256394 -0.088042\n",
       "3 -0.400803  0.149334  0.132215  0.007081  0.188065\n",
       "4  1.191284  0.868737  0.926930  0.162125  1.189271"
      ]
     },
     "execution_count": 8,
     "metadata": {},
     "output_type": "execute_result"
    }
   ],
   "source": [
    "X.head()"
   ]
  },
  {
   "cell_type": "code",
   "execution_count": 9,
   "id": "53d14167",
   "metadata": {},
   "outputs": [
    {
     "data": {
      "text/html": [
       "<div>\n",
       "<style scoped>\n",
       "    .dataframe tbody tr th:only-of-type {\n",
       "        vertical-align: middle;\n",
       "    }\n",
       "\n",
       "    .dataframe tbody tr th {\n",
       "        vertical-align: top;\n",
       "    }\n",
       "\n",
       "    .dataframe thead th {\n",
       "        text-align: right;\n",
       "    }\n",
       "</style>\n",
       "<table border=\"1\" class=\"dataframe\">\n",
       "  <thead>\n",
       "    <tr style=\"text-align: right;\">\n",
       "      <th></th>\n",
       "      <th>0</th>\n",
       "      <th>1</th>\n",
       "      <th>2</th>\n",
       "    </tr>\n",
       "  </thead>\n",
       "  <tbody>\n",
       "    <tr>\n",
       "      <th>0</th>\n",
       "      <td>-0.493615</td>\n",
       "      <td>0.681318</td>\n",
       "      <td>-0.066740</td>\n",
       "    </tr>\n",
       "    <tr>\n",
       "      <th>1</th>\n",
       "      <td>-0.825097</td>\n",
       "      <td>-0.249176</td>\n",
       "      <td>-1.204487</td>\n",
       "    </tr>\n",
       "    <tr>\n",
       "      <th>2</th>\n",
       "      <td>-0.237252</td>\n",
       "      <td>0.256394</td>\n",
       "      <td>-0.088042</td>\n",
       "    </tr>\n",
       "    <tr>\n",
       "      <th>3</th>\n",
       "      <td>0.149334</td>\n",
       "      <td>0.007081</td>\n",
       "      <td>0.188065</td>\n",
       "    </tr>\n",
       "    <tr>\n",
       "      <th>4</th>\n",
       "      <td>0.868737</td>\n",
       "      <td>0.162125</td>\n",
       "      <td>1.189271</td>\n",
       "    </tr>\n",
       "  </tbody>\n",
       "</table>\n",
       "</div>"
      ],
      "text/plain": [
       "          0         1         2\n",
       "0 -0.493615  0.681318 -0.066740\n",
       "1 -0.825097 -0.249176 -1.204487\n",
       "2 -0.237252  0.256394 -0.088042\n",
       "3  0.149334  0.007081  0.188065\n",
       "4  0.868737  0.162125  1.189271"
      ]
     },
     "execution_count": 9,
     "metadata": {},
     "output_type": "execute_result"
    }
   ],
   "source": [
    "selected_X.head()"
   ]
  },
  {
   "cell_type": "markdown",
   "id": "e3433694",
   "metadata": {},
   "source": [
    "### Feature Selection for Regression Problem using Mutual Information"
   ]
  },
  {
   "cell_type": "code",
   "execution_count": 10,
   "id": "6e2ca571",
   "metadata": {},
   "outputs": [],
   "source": [
    "from sklearn.datasets import make_regression\n",
    "from sklearn.feature_selection import mutual_info_regression\n",
    "from sklearn.feature_selection import SelectKBest\n",
    "import pandas as pd\n",
    "import matplotlib.pyplot as plt\n",
    "\n",
    "# generate dataset\n",
    "X, y = make_regression(n_samples=50, n_features=5)\n",
    "X = pd.DataFrame(X)"
   ]
  },
  {
   "cell_type": "code",
   "execution_count": 11,
   "id": "04302a59",
   "metadata": {},
   "outputs": [
    {
     "data": {
      "text/html": [
       "<div>\n",
       "<style scoped>\n",
       "    .dataframe tbody tr th:only-of-type {\n",
       "        vertical-align: middle;\n",
       "    }\n",
       "\n",
       "    .dataframe tbody tr th {\n",
       "        vertical-align: top;\n",
       "    }\n",
       "\n",
       "    .dataframe thead th {\n",
       "        text-align: right;\n",
       "    }\n",
       "</style>\n",
       "<table border=\"1\" class=\"dataframe\">\n",
       "  <thead>\n",
       "    <tr style=\"text-align: right;\">\n",
       "      <th></th>\n",
       "      <th>0</th>\n",
       "      <th>1</th>\n",
       "      <th>2</th>\n",
       "      <th>3</th>\n",
       "      <th>4</th>\n",
       "    </tr>\n",
       "  </thead>\n",
       "  <tbody>\n",
       "    <tr>\n",
       "      <th>0</th>\n",
       "      <td>0.055310</td>\n",
       "      <td>0.151878</td>\n",
       "      <td>1.874731</td>\n",
       "      <td>-1.492309</td>\n",
       "      <td>-0.339965</td>\n",
       "    </tr>\n",
       "    <tr>\n",
       "      <th>1</th>\n",
       "      <td>0.339411</td>\n",
       "      <td>0.382434</td>\n",
       "      <td>1.254816</td>\n",
       "      <td>-0.765235</td>\n",
       "      <td>-0.861789</td>\n",
       "    </tr>\n",
       "    <tr>\n",
       "      <th>2</th>\n",
       "      <td>0.772842</td>\n",
       "      <td>-0.749112</td>\n",
       "      <td>-0.676954</td>\n",
       "      <td>0.709598</td>\n",
       "      <td>1.968977</td>\n",
       "    </tr>\n",
       "    <tr>\n",
       "      <th>3</th>\n",
       "      <td>1.873585</td>\n",
       "      <td>-0.881858</td>\n",
       "      <td>0.283753</td>\n",
       "      <td>-1.007758</td>\n",
       "      <td>-0.907203</td>\n",
       "    </tr>\n",
       "    <tr>\n",
       "      <th>4</th>\n",
       "      <td>-1.149786</td>\n",
       "      <td>-0.298016</td>\n",
       "      <td>-2.017906</td>\n",
       "      <td>1.421077</td>\n",
       "      <td>0.765264</td>\n",
       "    </tr>\n",
       "  </tbody>\n",
       "</table>\n",
       "</div>"
      ],
      "text/plain": [
       "          0         1         2         3         4\n",
       "0  0.055310  0.151878  1.874731 -1.492309 -0.339965\n",
       "1  0.339411  0.382434  1.254816 -0.765235 -0.861789\n",
       "2  0.772842 -0.749112 -0.676954  0.709598  1.968977\n",
       "3  1.873585 -0.881858  0.283753 -1.007758 -0.907203\n",
       "4 -1.149786 -0.298016 -2.017906  1.421077  0.765264"
      ]
     },
     "execution_count": 11,
     "metadata": {},
     "output_type": "execute_result"
    }
   ],
   "source": [
    "X.head(5)"
   ]
  },
  {
   "cell_type": "code",
   "execution_count": 12,
   "id": "a6361972",
   "metadata": {},
   "outputs": [
    {
     "data": {
      "text/plain": [
       "array([  5.85458958,  12.48022995, 168.94035973,   8.20979278,\n",
       "       -85.57165966])"
      ]
     },
     "execution_count": 12,
     "metadata": {},
     "output_type": "execute_result"
    }
   ],
   "source": [
    "y[:5]"
   ]
  },
  {
   "cell_type": "code",
   "execution_count": 13,
   "id": "7ed3b9bb",
   "metadata": {},
   "outputs": [],
   "source": [
    "fs = SelectKBest(score_func=mutual_info_regression, k=3)"
   ]
  },
  {
   "cell_type": "code",
   "execution_count": 14,
   "id": "68e30068",
   "metadata": {},
   "outputs": [
    {
     "data": {
      "text/plain": [
       "<AxesSubplot:>"
      ]
     },
     "execution_count": 14,
     "metadata": {},
     "output_type": "execute_result"
    },
    {
     "data": {
      "image/png": "[encoded data removed]",
      "text/plain": [
       "<Figure size 432x288 with 1 Axes>"
      ]
     },
     "metadata": {
      "needs_background": "light"
     },
     "output_type": "display_data"
    }
   ],
   "source": [
    "fs.fit(X,y)\n",
    "mi_score = pd.Series(fs.scores_, index=X.columns)\n",
    "mi_score.sort_values(ascending=False).plot.bar(figsize=(6, 4))"
   ]
  },
  {
   "cell_type": "code",
   "execution_count": 15,
   "id": "a6837b3b",
   "metadata": {},
   "outputs": [],
   "source": [
    "X_selected = fs.fit_transform(X, y)\n",
    "X_selected = pd.DataFrame(X_selected)"
   ]
  },
  {
   "cell_type": "code",
   "execution_count": 16,
   "id": "8fa9f233",
   "metadata": {},
   "outputs": [
    {
     "data": {
      "text/html": [
       "<div>\n",
       "<style scoped>\n",
       "    .dataframe tbody tr th:only-of-type {\n",
       "        vertical-align: middle;\n",
       "    }\n",
       "\n",
       "    .dataframe tbody tr th {\n",
       "        vertical-align: top;\n",
       "    }\n",
       "\n",
       "    .dataframe thead th {\n",
       "        text-align: right;\n",
       "    }\n",
       "</style>\n",
       "<table border=\"1\" class=\"dataframe\">\n",
       "  <thead>\n",
       "    <tr style=\"text-align: right;\">\n",
       "      <th></th>\n",
       "      <th>0</th>\n",
       "      <th>1</th>\n",
       "      <th>2</th>\n",
       "      <th>3</th>\n",
       "      <th>4</th>\n",
       "    </tr>\n",
       "  </thead>\n",
       "  <tbody>\n",
       "    <tr>\n",
       "      <th>0</th>\n",
       "      <td>0.055310</td>\n",
       "      <td>0.151878</td>\n",
       "      <td>1.874731</td>\n",
       "      <td>-1.492309</td>\n",
       "      <td>-0.339965</td>\n",
       "    </tr>\n",
       "    <tr>\n",
       "      <th>1</th>\n",
       "      <td>0.339411</td>\n",
       "      <td>0.382434</td>\n",
       "      <td>1.254816</td>\n",
       "      <td>-0.765235</td>\n",
       "      <td>-0.861789</td>\n",
       "    </tr>\n",
       "    <tr>\n",
       "      <th>2</th>\n",
       "      <td>0.772842</td>\n",
       "      <td>-0.749112</td>\n",
       "      <td>-0.676954</td>\n",
       "      <td>0.709598</td>\n",
       "      <td>1.968977</td>\n",
       "    </tr>\n",
       "    <tr>\n",
       "      <th>3</th>\n",
       "      <td>1.873585</td>\n",
       "      <td>-0.881858</td>\n",
       "      <td>0.283753</td>\n",
       "      <td>-1.007758</td>\n",
       "      <td>-0.907203</td>\n",
       "    </tr>\n",
       "    <tr>\n",
       "      <th>4</th>\n",
       "      <td>-1.149786</td>\n",
       "      <td>-0.298016</td>\n",
       "      <td>-2.017906</td>\n",
       "      <td>1.421077</td>\n",
       "      <td>0.765264</td>\n",
       "    </tr>\n",
       "  </tbody>\n",
       "</table>\n",
       "</div>"
      ],
      "text/plain": [
       "          0         1         2         3         4\n",
       "0  0.055310  0.151878  1.874731 -1.492309 -0.339965\n",
       "1  0.339411  0.382434  1.254816 -0.765235 -0.861789\n",
       "2  0.772842 -0.749112 -0.676954  0.709598  1.968977\n",
       "3  1.873585 -0.881858  0.283753 -1.007758 -0.907203\n",
       "4 -1.149786 -0.298016 -2.017906  1.421077  0.765264"
      ]
     },
     "execution_count": 16,
     "metadata": {},
     "output_type": "execute_result"
    }
   ],
   "source": [
    "X.head()"
   ]
  },
  {
   "cell_type": "code",
   "execution_count": 17,
   "id": "d3374a7d",
   "metadata": {},
   "outputs": [
    {
     "data": {
      "text/html": [
       "<div>\n",
       "<style scoped>\n",
       "    .dataframe tbody tr th:only-of-type {\n",
       "        vertical-align: middle;\n",
       "    }\n",
       "\n",
       "    .dataframe tbody tr th {\n",
       "        vertical-align: top;\n",
       "    }\n",
       "\n",
       "    .dataframe thead th {\n",
       "        text-align: right;\n",
       "    }\n",
       "</style>\n",
       "<table border=\"1\" class=\"dataframe\">\n",
       "  <thead>\n",
       "    <tr style=\"text-align: right;\">\n",
       "      <th></th>\n",
       "      <th>0</th>\n",
       "      <th>1</th>\n",
       "      <th>2</th>\n",
       "    </tr>\n",
       "  </thead>\n",
       "  <tbody>\n",
       "    <tr>\n",
       "      <th>0</th>\n",
       "      <td>0.055310</td>\n",
       "      <td>1.874731</td>\n",
       "      <td>-1.492309</td>\n",
       "    </tr>\n",
       "    <tr>\n",
       "      <th>1</th>\n",
       "      <td>0.339411</td>\n",
       "      <td>1.254816</td>\n",
       "      <td>-0.765235</td>\n",
       "    </tr>\n",
       "    <tr>\n",
       "      <th>2</th>\n",
       "      <td>0.772842</td>\n",
       "      <td>-0.676954</td>\n",
       "      <td>0.709598</td>\n",
       "    </tr>\n",
       "    <tr>\n",
       "      <th>3</th>\n",
       "      <td>1.873585</td>\n",
       "      <td>0.283753</td>\n",
       "      <td>-1.007758</td>\n",
       "    </tr>\n",
       "    <tr>\n",
       "      <th>4</th>\n",
       "      <td>-1.149786</td>\n",
       "      <td>-2.017906</td>\n",
       "      <td>1.421077</td>\n",
       "    </tr>\n",
       "  </tbody>\n",
       "</table>\n",
       "</div>"
      ],
      "text/plain": [
       "          0         1         2\n",
       "0  0.055310  1.874731 -1.492309\n",
       "1  0.339411  1.254816 -0.765235\n",
       "2  0.772842 -0.676954  0.709598\n",
       "3  1.873585  0.283753 -1.007758\n",
       "4 -1.149786 -2.017906  1.421077"
      ]
     },
     "execution_count": 17,
     "metadata": {},
     "output_type": "execute_result"
    }
   ],
   "source": [
    "X_selected.head()"
   ]
  },
  {
   "cell_type": "code",
   "execution_count": null,
   "id": "8111c856",
   "metadata": {},
   "outputs": [],
   "source": []
  }
 ],
 "metadata": {
  "kernelspec": {
   "display_name": "Python 3 (ipykernel)",
   "language": "python",
   "name": "python3"
  },
  "language_info": {
   "codemirror_mode": {
    "name": "ipython",
    "version": 3
   },
   "file_extension": ".py",
   "mimetype": "text/x-python",
   "name": "python",
   "nbconvert_exporter": "python",
   "pygments_lexer": "ipython3",
   "version": "3.9.7"
  }
 },
 "nbformat": 4,
 "nbformat_minor": 5
}
