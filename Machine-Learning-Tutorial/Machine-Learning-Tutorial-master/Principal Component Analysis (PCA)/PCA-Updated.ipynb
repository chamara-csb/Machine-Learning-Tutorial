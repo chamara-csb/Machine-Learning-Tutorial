{
 "cells": [
  {
   "cell_type": "code",
   "execution_count": 1,
   "id": "bd9a043f",
   "metadata": {},
   "outputs": [],
   "source": [
    "# import necerssary libraries\n",
    "%matplotlib inline\n",
    "import numpy as np\n",
    "import matplotlib.pyplot as plt"
   ]
  },
  {
   "cell_type": "code",
   "execution_count": 2,
   "id": "71d6432d",
   "metadata": {},
   "outputs": [],
   "source": [
    "# create dataset as numpy array\n",
    "data = np.array([[40, 20],\n",
    "                [55, 30],\n",
    "                [70, 60],\n",
    "                [50, 35],\n",
    "                [45, 40],\n",
    "                [62, 75],\n",
    "                [45, 30],\n",
    "                [68, 80],\n",
    "                [80, 70],\n",
    "                [75, 90]])"
   ]
  },
  {
   "cell_type": "code",
   "execution_count": 3,
   "id": "d68fb422",
   "metadata": {},
   "outputs": [
    {
     "data": {
      "image/png": "[encoded data removed]",
      "text/plain": [
       "<Figure size 640x480 with 1 Axes>"
      ]
     },
     "metadata": {
      "needs_background": "light"
     },
     "output_type": "display_data"
    }
   ],
   "source": [
    "from matplotlib.pyplot import figure\n",
    "figure(figsize=(8, 6), dpi=80)\n",
    "plt.scatter(data[:, 0], data[:, 1])\n",
    "plt.xlabel(\"Maths Marks\")\n",
    "plt.ylabel(\"Science Marks\")\n",
    "plt.show()"
   ]
  },
  {
   "cell_type": "code",
   "execution_count": 4,
   "id": "2475d0d7",
   "metadata": {
    "scrolled": true
   },
   "outputs": [
    {
     "name": "stdout",
     "output_type": "stream",
     "text": [
      "[[-1.43299332 -1.39951173]\n",
      " [-0.3016828  -0.97541727]\n",
      " [ 0.82962771  0.29686613]\n",
      " [-0.67878631 -0.76337004]\n",
      " [-1.05588981 -0.5513228 ]\n",
      " [ 0.2262621   0.93300782]\n",
      " [-1.05588981 -0.97541727]\n",
      " [ 0.67878631  1.14505506]\n",
      " [ 1.58383472  0.72096059]\n",
      " [ 1.20673122  1.56914952]]\n"
     ]
    }
   ],
   "source": [
    "from sklearn.preprocessing import StandardScaler\n",
    "scaler = StandardScaler()\n",
    "scaled_data = scaler.fit_transform(data)\n",
    "print(scaled_data)"
   ]
  },
  {
   "cell_type": "code",
   "execution_count": 5,
   "id": "fbdfd474",
   "metadata": {},
   "outputs": [
    {
     "data": {
      "image/png": "[encoded data removed]",
      "text/plain": [
       "<Figure size 432x288 with 1 Axes>"
      ]
     },
     "metadata": {
      "needs_background": "light"
     },
     "output_type": "display_data"
    }
   ],
   "source": [
    "plt.scatter(scaled_data[:, 0], scaled_data[:, 1])\n",
    "plt.xlabel(\"Maths Marks\")\n",
    "plt.ylabel(\"Science Marks\")\n",
    "plt.show()"
   ]
  },
  {
   "cell_type": "code",
   "execution_count": 6,
   "id": "58c4eb70",
   "metadata": {},
   "outputs": [],
   "source": [
    "from sklearn.decomposition import PCA"
   ]
  },
  {
   "cell_type": "code",
   "execution_count": 7,
   "id": "2a76f722",
   "metadata": {},
   "outputs": [
    {
     "data": {
      "text/plain": [
       "PCA(n_components=2)"
      ]
     },
     "execution_count": 7,
     "metadata": {},
     "output_type": "execute_result"
    }
   ],
   "source": [
    "pca = PCA(n_components=2)\n",
    "pca.fit(data)"
   ]
  },
  {
   "cell_type": "code",
   "execution_count": 8,
   "id": "5fc109de",
   "metadata": {
    "scrolled": true
   },
   "outputs": [
    {
     "data": {
      "text/plain": [
       "array([775.27373895,  37.83737216])"
      ]
     },
     "execution_count": 8,
     "metadata": {},
     "output_type": "execute_result"
    }
   ],
   "source": [
    "pca.explained_variance_"
   ]
  },
  {
   "cell_type": "code",
   "execution_count": 9,
   "id": "ed2655fc",
   "metadata": {},
   "outputs": [
    {
     "data": {
      "text/plain": [
       "array([0.95346593, 0.04653407])"
      ]
     },
     "execution_count": 9,
     "metadata": {},
     "output_type": "execute_result"
    }
   ],
   "source": [
    "pca.explained_variance_ratio_"
   ]
  },
  {
   "cell_type": "code",
   "execution_count": 10,
   "id": "35c3cc5b",
   "metadata": {},
   "outputs": [
    {
     "data": {
      "text/plain": [
       "PCA(n_components=1)"
      ]
     },
     "execution_count": 10,
     "metadata": {},
     "output_type": "execute_result"
    }
   ],
   "source": [
    "pca = PCA(n_components=1)\n",
    "pca.fit(data)"
   ]
  },
  {
   "cell_type": "code",
   "execution_count": 11,
   "id": "7745ba08",
   "metadata": {},
   "outputs": [
    {
     "data": {
      "text/plain": [
       "array([775.27373895])"
      ]
     },
     "execution_count": 11,
     "metadata": {},
     "output_type": "execute_result"
    }
   ],
   "source": [
    "pca.explained_variance_"
   ]
  },
  {
   "cell_type": "code",
   "execution_count": 12,
   "id": "38292cb0",
   "metadata": {},
   "outputs": [
    {
     "name": "stdout",
     "output_type": "stream",
     "text": [
      "Original shape: (10, 2)\n",
      "Transformed shape: (10, 1)\n"
     ]
    }
   ],
   "source": [
    "data_pca = pca.transform(data)\n",
    "print(\"Original shape:\", data.shape)\n",
    "print(\"Transformed shape:\", data_pca.shape)"
   ]
  },
  {
   "cell_type": "code",
   "execution_count": 13,
   "id": "50034c44",
   "metadata": {
    "scrolled": true
   },
   "outputs": [
    {
     "data": {
      "text/plain": [
       "array([[40, 20],\n",
       "       [55, 30],\n",
       "       [70, 60],\n",
       "       [50, 35],\n",
       "       [45, 40],\n",
       "       [62, 75],\n",
       "       [45, 30],\n",
       "       [68, 80],\n",
       "       [80, 70],\n",
       "       [75, 90]])"
      ]
     },
     "execution_count": 13,
     "metadata": {},
     "output_type": "execute_result"
    }
   ],
   "source": [
    "data"
   ]
  },
  {
   "cell_type": "code",
   "execution_count": 14,
   "id": "7e9e6577",
   "metadata": {
    "scrolled": true
   },
   "outputs": [
    {
     "data": {
      "text/plain": [
       "array([[-38.04528819],\n",
       "       [-22.24513011],\n",
       "       [ 11.29118006],\n",
       "       [-20.1217861 ],\n",
       "       [-17.9984421 ],\n",
       "       [ 20.8961837 ],\n",
       "       [-26.86651814],\n",
       "       [ 28.10305454],\n",
       "       [ 24.78064413],\n",
       "       [ 40.2061022 ]])"
      ]
     },
     "execution_count": 14,
     "metadata": {},
     "output_type": "execute_result"
    }
   ],
   "source": [
    "data_pca"
   ]
  },
  {
   "cell_type": "code",
   "execution_count": 15,
   "id": "5d275eb1",
   "metadata": {
    "scrolled": false
   },
   "outputs": [
    {
     "data": {
      "text/plain": [
       "<matplotlib.collections.PathCollection at 0x12842805700>"
      ]
     },
     "execution_count": 15,
     "metadata": {},
     "output_type": "execute_result"
    },
    {
     "data": {
      "image/png": "[encoded data removed]",
      "text/plain": [
       "<Figure size 640x480 with 1 Axes>"
      ]
     },
     "metadata": {
      "needs_background": "light"
     },
     "output_type": "display_data"
    }
   ],
   "source": [
    "from matplotlib.pyplot import figure\n",
    "figure(figsize=(8, 6), dpi=80)\n",
    "new_data = pca.inverse_transform(data_pca)\n",
    "plt.scatter(data[:, 0], data[:, 1], alpha=0.2)\n",
    "plt.scatter(new_data[:, 0], new_data[:, 1])"
   ]
  },
  {
   "cell_type": "markdown",
   "id": "e35f1398",
   "metadata": {},
   "source": [
    "# PCA for visualization"
   ]
  },
  {
   "cell_type": "code",
   "execution_count": 16,
   "id": "e5b7e0d2",
   "metadata": {},
   "outputs": [],
   "source": [
    "from sklearn.datasets import load_digits"
   ]
  },
  {
   "cell_type": "code",
   "execution_count": 17,
   "id": "58874500",
   "metadata": {},
   "outputs": [
    {
     "data": {
      "text/plain": [
       "(1797, 64)"
      ]
     },
     "execution_count": 17,
     "metadata": {},
     "output_type": "execute_result"
    }
   ],
   "source": [
    "digits = load_digits()\n",
    "digits.data.shape"
   ]
  },
  {
   "cell_type": "code",
   "execution_count": 18,
   "id": "e644fa14",
   "metadata": {},
   "outputs": [
    {
     "data": {
      "image/png": "[encoded data removed]",
      "text/plain": [
       "<Figure size 288x288 with 1 Axes>"
      ]
     },
     "metadata": {
      "needs_background": "light"
     },
     "output_type": "display_data"
    }
   ],
   "source": [
    "import matplotlib.pyplot as plt\n",
    "plt.matshow(digits.images[1])\n",
    "plt.show()"
   ]
  },
  {
   "cell_type": "code",
   "execution_count": 20,
   "id": "53304674",
   "metadata": {},
   "outputs": [
    {
     "data": {
      "text/plain": [
       "1"
      ]
     },
     "execution_count": 20,
     "metadata": {},
     "output_type": "execute_result"
    }
   ],
   "source": [
    "digits.target[1]"
   ]
  },
  {
   "cell_type": "code",
   "execution_count": 21,
   "id": "81495a44",
   "metadata": {},
   "outputs": [
    {
     "name": "stdout",
     "output_type": "stream",
     "text": [
      "(1797, 64)\n",
      "(1797, 2)\n"
     ]
    }
   ],
   "source": [
    "from sklearn.decomposition import PCA\n",
    "pca = PCA(n_components=2)\n",
    "new_data = pca.fit_transform(digits.data)\n",
    "print(digits.data.shape)\n",
    "print(new_data.shape)"
   ]
  },
  {
   "cell_type": "code",
   "execution_count": 22,
   "id": "3a5f7cf9",
   "metadata": {},
   "outputs": [
    {
     "data": {
      "text/plain": [
       "<matplotlib.colorbar.Colorbar at 0x12843ada460>"
      ]
     },
     "execution_count": 22,
     "metadata": {},
     "output_type": "execute_result"
    },
    {
     "data": {
      "image/png": "[encoded data removed]",
      "text/plain": [
       "<Figure size 432x288 with 2 Axes>"
      ]
     },
     "metadata": {
      "needs_background": "light"
     },
     "output_type": "display_data"
    }
   ],
   "source": [
    "import matplotlib.pyplot as plt\n",
    "plt.scatter(new_data[:, 0], new_data[:, 1], c=digits.target)\n",
    "plt.xlabel('PC 1')\n",
    "plt.ylabel('PC 2')\n",
    "plt.colorbar()"
   ]
  },
  {
   "cell_type": "markdown",
   "id": "52f83d3b",
   "metadata": {},
   "source": [
    "# PCA for speedup model"
   ]
  },
  {
   "cell_type": "code",
   "execution_count": 23,
   "id": "941fc31f",
   "metadata": {},
   "outputs": [],
   "source": [
    "from sklearn.datasets import load_digits\n",
    "import numpy as np"
   ]
  },
  {
   "cell_type": "code",
   "execution_count": 24,
   "id": "1d5da872",
   "metadata": {},
   "outputs": [
    {
     "data": {
      "text/plain": [
       "(1797, 64)"
      ]
     },
     "execution_count": 24,
     "metadata": {},
     "output_type": "execute_result"
    }
   ],
   "source": [
    "digits = load_digits()\n",
    "digits.data.shape"
   ]
  },
  {
   "cell_type": "code",
   "execution_count": 25,
   "id": "57fd50ce",
   "metadata": {},
   "outputs": [],
   "source": [
    "from sklearn.preprocessing import StandardScaler\n",
    "sc=StandardScaler()\n",
    "new_data = sc.fit_transform(digits.data)"
   ]
  },
  {
   "cell_type": "code",
   "execution_count": 26,
   "id": "ddaaae5e",
   "metadata": {},
   "outputs": [],
   "source": [
    "from sklearn.decomposition import PCA\n",
    "pca = PCA(n_components=10)\n",
    "new_data_pca = pca.fit_transform(new_data)"
   ]
  },
  {
   "cell_type": "code",
   "execution_count": 27,
   "id": "e9302f8e",
   "metadata": {},
   "outputs": [],
   "source": [
    "from sklearn.model_selection import train_test_split\n",
    "x_train, x_test, y_train, y_test = train_test_split(new_data_pca, digits.target, test_size=0.2, random_state=42)"
   ]
  },
  {
   "cell_type": "code",
   "execution_count": 28,
   "id": "b1561078",
   "metadata": {},
   "outputs": [
    {
     "data": {
      "text/plain": [
       "(1437, 10)"
      ]
     },
     "execution_count": 28,
     "metadata": {},
     "output_type": "execute_result"
    }
   ],
   "source": [
    "x_train.shape"
   ]
  },
  {
   "cell_type": "code",
   "execution_count": 29,
   "id": "cf0ed8d4",
   "metadata": {},
   "outputs": [
    {
     "data": {
      "text/plain": [
       "(1437,)"
      ]
     },
     "execution_count": 29,
     "metadata": {},
     "output_type": "execute_result"
    }
   ],
   "source": [
    "y_train.shape"
   ]
  },
  {
   "cell_type": "code",
   "execution_count": 30,
   "id": "9aaa1412",
   "metadata": {},
   "outputs": [
    {
     "name": "stdout",
     "output_type": "stream",
     "text": [
      "Time: 72.83663749694824 ms\n"
     ]
    }
   ],
   "source": [
    "from sklearn.linear_model import LogisticRegression\n",
    "model = LogisticRegression(solver='lbfgs', max_iter=1000)\n",
    "import time\n",
    "\n",
    "start = time.time()\n",
    "\n",
    "model.fit(x_train, y_train)\n",
    "\n",
    "end = time.time()\n",
    "\n",
    "print('Time: ' + str((end - start)*1000) + ' ms')"
   ]
  },
  {
   "cell_type": "code",
   "execution_count": 31,
   "id": "3ae42c7c",
   "metadata": {},
   "outputs": [
    {
     "data": {
      "text/plain": [
       "0.8972222222222223"
      ]
     },
     "execution_count": 31,
     "metadata": {},
     "output_type": "execute_result"
    }
   ],
   "source": [
    "from sklearn.metrics import accuracy_score\n",
    "y_pred = model.predict(x_test)\n",
    "accuracy_score(y_test, y_pred)"
   ]
  },
  {
   "cell_type": "code",
   "execution_count": 32,
   "id": "c376162b",
   "metadata": {},
   "outputs": [
    {
     "name": "stdout",
     "output_type": "stream",
     "text": [
      "Shape of the Data set : (1797, 10)\n",
      "Time: 81.59923553466797 ms\n"
     ]
    }
   ],
   "source": [
    "print(\"Shape of the Data set : \"+ str(new_data_pca.shape))\n",
    "\n",
    "# divide dataset into training and testing set\n",
    "from sklearn.model_selection import train_test_split\n",
    "x_train, x_test, y_train, y_test = train_test_split(new_data_pca, digits.target, test_size=0.2, random_state=42)\n",
    "\n",
    "# import logistic regression to train the model\n",
    "from sklearn.linear_model import LogisticRegression\n",
    "model = LogisticRegression(solver='lbfgs', max_iter=1000)\n",
    "\n",
    "# calculate time\n",
    "import time\n",
    "start = time.time()\n",
    "model.fit(x_train, y_train)\n",
    "end = time.time()\n",
    "\n",
    "print('Time: ' + str((end - start)*1000) + ' ms')"
   ]
  }
 ],
 "metadata": {
  "kernelspec": {
   "display_name": "Python 3 (ipykernel)",
   "language": "python",
   "name": "python3"
  },
  "language_info": {
   "codemirror_mode": {
    "name": "ipython",
    "version": 3
   },
   "file_extension": ".py",
   "mimetype": "text/x-python",
   "name": "python",
   "nbconvert_exporter": "python",
   "pygments_lexer": "ipython3",
   "version": "3.9.7"
  }
 },
 "nbformat": 4,
 "nbformat_minor": 5
}
