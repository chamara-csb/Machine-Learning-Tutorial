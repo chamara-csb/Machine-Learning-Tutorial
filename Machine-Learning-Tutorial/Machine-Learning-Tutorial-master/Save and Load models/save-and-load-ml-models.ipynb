{
 "cells": [
  {
   "cell_type": "code",
   "execution_count": 90,
   "id": "12578fc8",
   "metadata": {},
   "outputs": [
    {
     "name": "stdout",
     "output_type": "stream",
     "text": [
      "Accuracy : 0.9666666666666667\n"
     ]
    }
   ],
   "source": [
    "# Load iris dataset from sklearn library\n",
    "from sklearn.datasets import load_iris\n",
    "dataset = load_iris()\n",
    "\n",
    "# Split dataset into training and testing set\n",
    "from sklearn.model_selection import train_test_split\n",
    "X_train, X_test, y_train, y_test = train_test_split(dataset.data, dataset.target, test_size = 0.2)\n",
    "\n",
    "# import RandomForestClassifier and create a model\n",
    "from sklearn.ensemble import RandomForestClassifier\n",
    "rf = RandomForestClassifier(n_estimators=100)\n",
    "\n",
    "# train the model\n",
    "rf.fit(X_train, y_train)\n",
    "\n",
    "# Calculate accuracy of the model\n",
    "print(\"Accuracy : {}\".format(model.score(X_test, y_test)))"
   ]
  },
  {
   "cell_type": "markdown",
   "id": "f8da2c15",
   "metadata": {},
   "source": [
    "# Save and Load model using pickle "
   ]
  },
  {
   "cell_type": "code",
   "execution_count": 84,
   "id": "fa6df621",
   "metadata": {},
   "outputs": [],
   "source": [
    "import pickle"
   ]
  },
  {
   "cell_type": "code",
   "execution_count": 85,
   "id": "f7fc8458",
   "metadata": {},
   "outputs": [],
   "source": [
    "# save model\n",
    "filename = \"rf_model1.pickle\"\n",
    "with open(filename, \"wb\") as f:\n",
    "     pickle.dump(rf, f)"
   ]
  },
  {
   "cell_type": "code",
   "execution_count": 86,
   "id": "2aada54a",
   "metadata": {},
   "outputs": [],
   "source": [
    "# load model\n",
    "filename = \"rf_model1.pickle\"\n",
    "with open(filename, \"rb\") as f: \n",
    "     model = pickle.load(f)"
   ]
  },
  {
   "cell_type": "code",
   "execution_count": 87,
   "id": "7344ec96",
   "metadata": {},
   "outputs": [
    {
     "data": {
      "text/plain": [
       "RandomForestClassifier()"
      ]
     },
     "execution_count": 87,
     "metadata": {},
     "output_type": "execute_result"
    }
   ],
   "source": [
    "model"
   ]
  },
  {
   "cell_type": "code",
   "execution_count": 88,
   "id": "ab0695dc",
   "metadata": {},
   "outputs": [
    {
     "data": {
      "text/plain": [
       "array([1])"
      ]
     },
     "execution_count": 88,
     "metadata": {},
     "output_type": "execute_result"
    }
   ],
   "source": [
    "SepalLength = 6.3\n",
    "SepalWidth = 2.3\n",
    "PetalLength = 4.6\n",
    "PetalWidth = 1.3\n",
    "\n",
    "model.predict([[SepalLength, SepalWidth, PetalLength, PetalWidth]])"
   ]
  },
  {
   "cell_type": "markdown",
   "id": "0eca7cce",
   "metadata": {},
   "source": [
    "# Save and Load model using joblib"
   ]
  },
  {
   "cell_type": "code",
   "execution_count": 58,
   "id": "f5c08f34",
   "metadata": {},
   "outputs": [],
   "source": [
    "import joblib"
   ]
  },
  {
   "cell_type": "code",
   "execution_count": 63,
   "id": "83ce6429",
   "metadata": {},
   "outputs": [
    {
     "data": {
      "text/plain": [
       "['rf_model2.pickle']"
      ]
     },
     "execution_count": 63,
     "metadata": {},
     "output_type": "execute_result"
    }
   ],
   "source": [
    "# save model\n",
    "filename = \"rf_model2.pickle\"\n",
    "joblib.dump(rf, filename)"
   ]
  },
  {
   "cell_type": "code",
   "execution_count": 64,
   "id": "5a9c4823",
   "metadata": {
    "scrolled": true
   },
   "outputs": [],
   "source": [
    "# load model\n",
    "filename = \"rf_model2.pickle\"\n",
    "model = joblib.load(filename)"
   ]
  },
  {
   "cell_type": "code",
   "execution_count": 65,
   "id": "d71a2917",
   "metadata": {},
   "outputs": [
    {
     "data": {
      "text/plain": [
       "RandomForestClassifier()"
      ]
     },
     "execution_count": 65,
     "metadata": {},
     "output_type": "execute_result"
    }
   ],
   "source": [
    "model"
   ]
  },
  {
   "cell_type": "code",
   "execution_count": 66,
   "id": "db004ef8",
   "metadata": {},
   "outputs": [
    {
     "data": {
      "text/plain": [
       "array([1])"
      ]
     },
     "execution_count": 66,
     "metadata": {},
     "output_type": "execute_result"
    }
   ],
   "source": [
    "SepalLength = 6.3\n",
    "SepalWidth = 2.3\n",
    "PetalLength = 4.6\n",
    "PetalWidth = 1.3\n",
    "model.predict([[SepalLength, SepalWidth, PetalLength, PetalWidth]])"
   ]
  },
  {
   "cell_type": "code",
   "execution_count": null,
   "id": "1e71cfec",
   "metadata": {},
   "outputs": [],
   "source": []
  }
 ],
 "metadata": {
  "kernelspec": {
   "display_name": "Python 3 (ipykernel)",
   "language": "python",
   "name": "python3"
  },
  "language_info": {
   "codemirror_mode": {
    "name": "ipython",
    "version": 3
   },
   "file_extension": ".py",
   "mimetype": "text/x-python",
   "name": "python",
   "nbconvert_exporter": "python",
   "pygments_lexer": "ipython3",
   "version": "3.9.7"
  }
 },
 "nbformat": 4,
 "nbformat_minor": 5
}
